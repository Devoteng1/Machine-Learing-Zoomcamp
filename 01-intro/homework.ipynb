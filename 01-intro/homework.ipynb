{
 "cells": [
  {
   "cell_type": "code",
   "execution_count": 1,
   "id": "d5371d63",
   "metadata": {},
   "outputs": [],
   "source": [
    "import pandas as pd"
   ]
  },
  {
   "cell_type": "code",
   "execution_count": 2,
   "id": "3b1d52ce",
   "metadata": {},
   "outputs": [
    {
     "data": {
      "text/plain": [
       "'1.4.2'"
      ]
     },
     "execution_count": 2,
     "metadata": {},
     "output_type": "execute_result"
    }
   ],
   "source": [
    "pd.__version__"
   ]
  },
  {
   "cell_type": "code",
   "execution_count": 3,
   "id": "12bec2a5",
   "metadata": {},
   "outputs": [],
   "source": [
    "dfJan = pd.read_parquet('https://d37ci6vzurychx.cloudfront.net/trip-data/yellow_tripdata_2024-01.parquet')"
   ]
  },
  {
   "cell_type": "code",
   "execution_count": 4,
   "id": "941cbb30",
   "metadata": {},
   "outputs": [],
   "source": [
    "dfFeb = pd.read_parquet('https://d37ci6vzurychx.cloudfront.net/trip-data/yellow_tripdata_2024-02.parquet')"
   ]
  },
  {
   "cell_type": "code",
   "execution_count": 5,
   "id": "b28764fc",
   "metadata": {},
   "outputs": [
    {
     "data": {
      "text/plain": [
       "Index(['VendorID', 'tpep_pickup_datetime', 'tpep_dropoff_datetime',\n",
       "       'passenger_count', 'trip_distance', 'RatecodeID', 'store_and_fwd_flag',\n",
       "       'PULocationID', 'DOLocationID', 'payment_type', 'fare_amount', 'extra',\n",
       "       'mta_tax', 'tip_amount', 'tolls_amount', 'improvement_surcharge',\n",
       "       'total_amount', 'congestion_surcharge', 'Airport_fee'],\n",
       "      dtype='object')"
      ]
     },
     "execution_count": 5,
     "metadata": {},
     "output_type": "execute_result"
    }
   ],
   "source": [
    "dfJan.columns"
   ]
  },
  {
   "cell_type": "code",
   "execution_count": 6,
   "id": "fb238054",
   "metadata": {},
   "outputs": [
    {
     "data": {
      "text/plain": [
       "Index(['VendorID', 'tpep_pickup_datetime', 'tpep_dropoff_datetime',\n",
       "       'passenger_count', 'trip_distance', 'RatecodeID', 'store_and_fwd_flag',\n",
       "       'PULocationID', 'DOLocationID', 'payment_type', 'fare_amount', 'extra',\n",
       "       'mta_tax', 'tip_amount', 'tolls_amount', 'improvement_surcharge',\n",
       "       'total_amount', 'congestion_surcharge', 'Airport_fee'],\n",
       "      dtype='object')"
      ]
     },
     "execution_count": 6,
     "metadata": {},
     "output_type": "execute_result"
    }
   ],
   "source": [
    "dfFeb.columns"
   ]
  },
  {
   "cell_type": "code",
   "execution_count": 7,
   "id": "025bc590",
   "metadata": {},
   "outputs": [],
   "source": [
    "import sklearn"
   ]
  },
  {
   "cell_type": "code",
   "execution_count": 8,
   "id": "9dc40864",
   "metadata": {},
   "outputs": [
    {
     "data": {
      "text/plain": [
       "'1.0.2'"
      ]
     },
     "execution_count": 8,
     "metadata": {},
     "output_type": "execute_result"
    }
   ],
   "source": [
    "sklearn.__version__"
   ]
  },
  {
   "cell_type": "code",
   "execution_count": 9,
   "id": "adf7267b",
   "metadata": {},
   "outputs": [
    {
     "data": {
      "text/plain": [
       "(2964624, 19)"
      ]
     },
     "execution_count": 9,
     "metadata": {},
     "output_type": "execute_result"
    }
   ],
   "source": [
    "dfJan.shape"
   ]
  },
  {
   "cell_type": "code",
   "execution_count": 10,
   "id": "5f2d916b",
   "metadata": {},
   "outputs": [
    {
     "data": {
      "text/html": [
       "<div>\n",
       "<style scoped>\n",
       "    .dataframe tbody tr th:only-of-type {\n",
       "        vertical-align: middle;\n",
       "    }\n",
       "\n",
       "    .dataframe tbody tr th {\n",
       "        vertical-align: top;\n",
       "    }\n",
       "\n",
       "    .dataframe thead th {\n",
       "        text-align: right;\n",
       "    }\n",
       "</style>\n",
       "<table border=\"1\" class=\"dataframe\">\n",
       "  <thead>\n",
       "    <tr style=\"text-align: right;\">\n",
       "      <th></th>\n",
       "      <th>VendorID</th>\n",
       "      <th>tpep_pickup_datetime</th>\n",
       "      <th>tpep_dropoff_datetime</th>\n",
       "      <th>passenger_count</th>\n",
       "      <th>trip_distance</th>\n",
       "      <th>RatecodeID</th>\n",
       "      <th>store_and_fwd_flag</th>\n",
       "      <th>PULocationID</th>\n",
       "      <th>DOLocationID</th>\n",
       "      <th>payment_type</th>\n",
       "      <th>fare_amount</th>\n",
       "      <th>extra</th>\n",
       "      <th>mta_tax</th>\n",
       "      <th>tip_amount</th>\n",
       "      <th>tolls_amount</th>\n",
       "      <th>improvement_surcharge</th>\n",
       "      <th>total_amount</th>\n",
       "      <th>congestion_surcharge</th>\n",
       "      <th>Airport_fee</th>\n",
       "    </tr>\n",
       "  </thead>\n",
       "  <tbody>\n",
       "    <tr>\n",
       "      <th>0</th>\n",
       "      <td>2</td>\n",
       "      <td>2024-01-01 00:57:55</td>\n",
       "      <td>2024-01-01 01:17:43</td>\n",
       "      <td>1.0</td>\n",
       "      <td>1.72</td>\n",
       "      <td>1.0</td>\n",
       "      <td>N</td>\n",
       "      <td>186</td>\n",
       "      <td>79</td>\n",
       "      <td>2</td>\n",
       "      <td>17.7</td>\n",
       "      <td>1.0</td>\n",
       "      <td>0.5</td>\n",
       "      <td>0.00</td>\n",
       "      <td>0.0</td>\n",
       "      <td>1.0</td>\n",
       "      <td>22.70</td>\n",
       "      <td>2.5</td>\n",
       "      <td>0.0</td>\n",
       "    </tr>\n",
       "    <tr>\n",
       "      <th>1</th>\n",
       "      <td>1</td>\n",
       "      <td>2024-01-01 00:03:00</td>\n",
       "      <td>2024-01-01 00:09:36</td>\n",
       "      <td>1.0</td>\n",
       "      <td>1.80</td>\n",
       "      <td>1.0</td>\n",
       "      <td>N</td>\n",
       "      <td>140</td>\n",
       "      <td>236</td>\n",
       "      <td>1</td>\n",
       "      <td>10.0</td>\n",
       "      <td>3.5</td>\n",
       "      <td>0.5</td>\n",
       "      <td>3.75</td>\n",
       "      <td>0.0</td>\n",
       "      <td>1.0</td>\n",
       "      <td>18.75</td>\n",
       "      <td>2.5</td>\n",
       "      <td>0.0</td>\n",
       "    </tr>\n",
       "    <tr>\n",
       "      <th>2</th>\n",
       "      <td>1</td>\n",
       "      <td>2024-01-01 00:17:06</td>\n",
       "      <td>2024-01-01 00:35:01</td>\n",
       "      <td>1.0</td>\n",
       "      <td>4.70</td>\n",
       "      <td>1.0</td>\n",
       "      <td>N</td>\n",
       "      <td>236</td>\n",
       "      <td>79</td>\n",
       "      <td>1</td>\n",
       "      <td>23.3</td>\n",
       "      <td>3.5</td>\n",
       "      <td>0.5</td>\n",
       "      <td>3.00</td>\n",
       "      <td>0.0</td>\n",
       "      <td>1.0</td>\n",
       "      <td>31.30</td>\n",
       "      <td>2.5</td>\n",
       "      <td>0.0</td>\n",
       "    </tr>\n",
       "    <tr>\n",
       "      <th>3</th>\n",
       "      <td>1</td>\n",
       "      <td>2024-01-01 00:36:38</td>\n",
       "      <td>2024-01-01 00:44:56</td>\n",
       "      <td>1.0</td>\n",
       "      <td>1.40</td>\n",
       "      <td>1.0</td>\n",
       "      <td>N</td>\n",
       "      <td>79</td>\n",
       "      <td>211</td>\n",
       "      <td>1</td>\n",
       "      <td>10.0</td>\n",
       "      <td>3.5</td>\n",
       "      <td>0.5</td>\n",
       "      <td>2.00</td>\n",
       "      <td>0.0</td>\n",
       "      <td>1.0</td>\n",
       "      <td>17.00</td>\n",
       "      <td>2.5</td>\n",
       "      <td>0.0</td>\n",
       "    </tr>\n",
       "    <tr>\n",
       "      <th>4</th>\n",
       "      <td>1</td>\n",
       "      <td>2024-01-01 00:46:51</td>\n",
       "      <td>2024-01-01 00:52:57</td>\n",
       "      <td>1.0</td>\n",
       "      <td>0.80</td>\n",
       "      <td>1.0</td>\n",
       "      <td>N</td>\n",
       "      <td>211</td>\n",
       "      <td>148</td>\n",
       "      <td>1</td>\n",
       "      <td>7.9</td>\n",
       "      <td>3.5</td>\n",
       "      <td>0.5</td>\n",
       "      <td>3.20</td>\n",
       "      <td>0.0</td>\n",
       "      <td>1.0</td>\n",
       "      <td>16.10</td>\n",
       "      <td>2.5</td>\n",
       "      <td>0.0</td>\n",
       "    </tr>\n",
       "  </tbody>\n",
       "</table>\n",
       "</div>"
      ],
      "text/plain": [
       "   VendorID tpep_pickup_datetime tpep_dropoff_datetime  passenger_count  \\\n",
       "0         2  2024-01-01 00:57:55   2024-01-01 01:17:43              1.0   \n",
       "1         1  2024-01-01 00:03:00   2024-01-01 00:09:36              1.0   \n",
       "2         1  2024-01-01 00:17:06   2024-01-01 00:35:01              1.0   \n",
       "3         1  2024-01-01 00:36:38   2024-01-01 00:44:56              1.0   \n",
       "4         1  2024-01-01 00:46:51   2024-01-01 00:52:57              1.0   \n",
       "\n",
       "   trip_distance  RatecodeID store_and_fwd_flag  PULocationID  DOLocationID  \\\n",
       "0           1.72         1.0                  N           186            79   \n",
       "1           1.80         1.0                  N           140           236   \n",
       "2           4.70         1.0                  N           236            79   \n",
       "3           1.40         1.0                  N            79           211   \n",
       "4           0.80         1.0                  N           211           148   \n",
       "\n",
       "   payment_type  fare_amount  extra  mta_tax  tip_amount  tolls_amount  \\\n",
       "0             2         17.7    1.0      0.5        0.00           0.0   \n",
       "1             1         10.0    3.5      0.5        3.75           0.0   \n",
       "2             1         23.3    3.5      0.5        3.00           0.0   \n",
       "3             1         10.0    3.5      0.5        2.00           0.0   \n",
       "4             1          7.9    3.5      0.5        3.20           0.0   \n",
       "\n",
       "   improvement_surcharge  total_amount  congestion_surcharge  Airport_fee  \n",
       "0                    1.0         22.70                   2.5          0.0  \n",
       "1                    1.0         18.75                   2.5          0.0  \n",
       "2                    1.0         31.30                   2.5          0.0  \n",
       "3                    1.0         17.00                   2.5          0.0  \n",
       "4                    1.0         16.10                   2.5          0.0  "
      ]
     },
     "execution_count": 10,
     "metadata": {},
     "output_type": "execute_result"
    }
   ],
   "source": [
    "dfJan.head()"
   ]
  },
  {
   "cell_type": "code",
   "execution_count": 11,
   "id": "1f7abf08",
   "metadata": {},
   "outputs": [
    {
     "data": {
      "text/plain": [
       "Index(['VendorID', 'tpep_pickup_datetime', 'tpep_dropoff_datetime',\n",
       "       'passenger_count', 'trip_distance', 'RatecodeID', 'store_and_fwd_flag',\n",
       "       'PULocationID', 'DOLocationID', 'payment_type', 'fare_amount', 'extra',\n",
       "       'mta_tax', 'tip_amount', 'tolls_amount', 'improvement_surcharge',\n",
       "       'total_amount', 'congestion_surcharge', 'Airport_fee'],\n",
       "      dtype='object')"
      ]
     },
     "execution_count": 11,
     "metadata": {},
     "output_type": "execute_result"
    }
   ],
   "source": [
    "dfJan.columns"
   ]
  },
  {
   "cell_type": "code",
   "execution_count": 12,
   "id": "387505dd",
   "metadata": {},
   "outputs": [],
   "source": [
    "dfJan['pickup_in_mins'] = dfJan['tpep_pickup_datetime'].dt.minute"
   ]
  },
  {
   "cell_type": "code",
   "execution_count": 13,
   "id": "8bdc80cf",
   "metadata": {},
   "outputs": [],
   "source": [
    "dfJan['dropoff_in_mins'] = dfJan['tpep_dropoff_datetime'].dt.minute"
   ]
  },
  {
   "cell_type": "code",
   "execution_count": 14,
   "id": "732f6e9e",
   "metadata": {},
   "outputs": [
    {
     "data": {
      "text/plain": [
       "VendorID                          int32\n",
       "tpep_pickup_datetime     datetime64[ns]\n",
       "tpep_dropoff_datetime    datetime64[ns]\n",
       "passenger_count                 float64\n",
       "trip_distance                   float64\n",
       "RatecodeID                      float64\n",
       "store_and_fwd_flag               object\n",
       "PULocationID                      int32\n",
       "DOLocationID                      int32\n",
       "payment_type                      int64\n",
       "fare_amount                     float64\n",
       "extra                           float64\n",
       "mta_tax                         float64\n",
       "tip_amount                      float64\n",
       "tolls_amount                    float64\n",
       "improvement_surcharge           float64\n",
       "total_amount                    float64\n",
       "congestion_surcharge            float64\n",
       "Airport_fee                     float64\n",
       "pickup_in_mins                    int64\n",
       "dropoff_in_mins                   int64\n",
       "dtype: object"
      ]
     },
     "execution_count": 14,
     "metadata": {},
     "output_type": "execute_result"
    }
   ],
   "source": [
    "dfJan.dtypes"
   ]
  },
  {
   "cell_type": "code",
   "execution_count": 15,
   "id": "a63cbd10",
   "metadata": {},
   "outputs": [],
   "source": [
    "#dfJan['duration'] = dfJan['dropoff_in_mins'] - dfJan['pickup_in_mins']"
   ]
  },
  {
   "cell_type": "code",
   "execution_count": 16,
   "id": "db842159",
   "metadata": {},
   "outputs": [],
   "source": [
    "# Calculate the duration in minutes\n",
    "dfJan['duration_minutes'] = (dfJan['tpep_dropoff_datetime'] - dfJan['tpep_pickup_datetime']).dt.total_seconds() / 60"
   ]
  },
  {
   "cell_type": "code",
   "execution_count": null,
   "id": "cddcef72",
   "metadata": {},
   "outputs": [],
   "source": []
  },
  {
   "cell_type": "code",
   "execution_count": 17,
   "id": "3db88578",
   "metadata": {},
   "outputs": [],
   "source": [
    "dfJan['dur'] = dfJan['pickup_in_mins'] - dfJan['dropoff_in_mins']"
   ]
  },
  {
   "cell_type": "code",
   "execution_count": 18,
   "id": "acaae568",
   "metadata": {},
   "outputs": [
    {
     "data": {
      "text/html": [
       "<div>\n",
       "<style scoped>\n",
       "    .dataframe tbody tr th:only-of-type {\n",
       "        vertical-align: middle;\n",
       "    }\n",
       "\n",
       "    .dataframe tbody tr th {\n",
       "        vertical-align: top;\n",
       "    }\n",
       "\n",
       "    .dataframe thead th {\n",
       "        text-align: right;\n",
       "    }\n",
       "</style>\n",
       "<table border=\"1\" class=\"dataframe\">\n",
       "  <thead>\n",
       "    <tr style=\"text-align: right;\">\n",
       "      <th></th>\n",
       "      <th>VendorID</th>\n",
       "      <th>tpep_pickup_datetime</th>\n",
       "      <th>tpep_dropoff_datetime</th>\n",
       "      <th>passenger_count</th>\n",
       "      <th>trip_distance</th>\n",
       "      <th>RatecodeID</th>\n",
       "      <th>store_and_fwd_flag</th>\n",
       "      <th>PULocationID</th>\n",
       "      <th>DOLocationID</th>\n",
       "      <th>payment_type</th>\n",
       "      <th>...</th>\n",
       "      <th>tip_amount</th>\n",
       "      <th>tolls_amount</th>\n",
       "      <th>improvement_surcharge</th>\n",
       "      <th>total_amount</th>\n",
       "      <th>congestion_surcharge</th>\n",
       "      <th>Airport_fee</th>\n",
       "      <th>pickup_in_mins</th>\n",
       "      <th>dropoff_in_mins</th>\n",
       "      <th>duration_minutes</th>\n",
       "      <th>dur</th>\n",
       "    </tr>\n",
       "  </thead>\n",
       "  <tbody>\n",
       "    <tr>\n",
       "      <th>0</th>\n",
       "      <td>2</td>\n",
       "      <td>2024-01-01 00:57:55</td>\n",
       "      <td>2024-01-01 01:17:43</td>\n",
       "      <td>1.0</td>\n",
       "      <td>1.72</td>\n",
       "      <td>1.0</td>\n",
       "      <td>N</td>\n",
       "      <td>186</td>\n",
       "      <td>79</td>\n",
       "      <td>2</td>\n",
       "      <td>...</td>\n",
       "      <td>0.00</td>\n",
       "      <td>0.0</td>\n",
       "      <td>1.0</td>\n",
       "      <td>22.70</td>\n",
       "      <td>2.5</td>\n",
       "      <td>0.0</td>\n",
       "      <td>57</td>\n",
       "      <td>17</td>\n",
       "      <td>19.800000</td>\n",
       "      <td>40</td>\n",
       "    </tr>\n",
       "    <tr>\n",
       "      <th>1</th>\n",
       "      <td>1</td>\n",
       "      <td>2024-01-01 00:03:00</td>\n",
       "      <td>2024-01-01 00:09:36</td>\n",
       "      <td>1.0</td>\n",
       "      <td>1.80</td>\n",
       "      <td>1.0</td>\n",
       "      <td>N</td>\n",
       "      <td>140</td>\n",
       "      <td>236</td>\n",
       "      <td>1</td>\n",
       "      <td>...</td>\n",
       "      <td>3.75</td>\n",
       "      <td>0.0</td>\n",
       "      <td>1.0</td>\n",
       "      <td>18.75</td>\n",
       "      <td>2.5</td>\n",
       "      <td>0.0</td>\n",
       "      <td>3</td>\n",
       "      <td>9</td>\n",
       "      <td>6.600000</td>\n",
       "      <td>-6</td>\n",
       "    </tr>\n",
       "    <tr>\n",
       "      <th>2</th>\n",
       "      <td>1</td>\n",
       "      <td>2024-01-01 00:17:06</td>\n",
       "      <td>2024-01-01 00:35:01</td>\n",
       "      <td>1.0</td>\n",
       "      <td>4.70</td>\n",
       "      <td>1.0</td>\n",
       "      <td>N</td>\n",
       "      <td>236</td>\n",
       "      <td>79</td>\n",
       "      <td>1</td>\n",
       "      <td>...</td>\n",
       "      <td>3.00</td>\n",
       "      <td>0.0</td>\n",
       "      <td>1.0</td>\n",
       "      <td>31.30</td>\n",
       "      <td>2.5</td>\n",
       "      <td>0.0</td>\n",
       "      <td>17</td>\n",
       "      <td>35</td>\n",
       "      <td>17.916667</td>\n",
       "      <td>-18</td>\n",
       "    </tr>\n",
       "  </tbody>\n",
       "</table>\n",
       "<p>3 rows × 23 columns</p>\n",
       "</div>"
      ],
      "text/plain": [
       "   VendorID tpep_pickup_datetime tpep_dropoff_datetime  passenger_count  \\\n",
       "0         2  2024-01-01 00:57:55   2024-01-01 01:17:43              1.0   \n",
       "1         1  2024-01-01 00:03:00   2024-01-01 00:09:36              1.0   \n",
       "2         1  2024-01-01 00:17:06   2024-01-01 00:35:01              1.0   \n",
       "\n",
       "   trip_distance  RatecodeID store_and_fwd_flag  PULocationID  DOLocationID  \\\n",
       "0           1.72         1.0                  N           186            79   \n",
       "1           1.80         1.0                  N           140           236   \n",
       "2           4.70         1.0                  N           236            79   \n",
       "\n",
       "   payment_type  ...  tip_amount  tolls_amount  improvement_surcharge  \\\n",
       "0             2  ...        0.00           0.0                    1.0   \n",
       "1             1  ...        3.75           0.0                    1.0   \n",
       "2             1  ...        3.00           0.0                    1.0   \n",
       "\n",
       "   total_amount  congestion_surcharge  Airport_fee  pickup_in_mins  \\\n",
       "0         22.70                   2.5          0.0              57   \n",
       "1         18.75                   2.5          0.0               3   \n",
       "2         31.30                   2.5          0.0              17   \n",
       "\n",
       "   dropoff_in_mins  duration_minutes  dur  \n",
       "0               17         19.800000   40  \n",
       "1                9          6.600000   -6  \n",
       "2               35         17.916667  -18  \n",
       "\n",
       "[3 rows x 23 columns]"
      ]
     },
     "execution_count": 18,
     "metadata": {},
     "output_type": "execute_result"
    }
   ],
   "source": [
    "dfJan.head(3)"
   ]
  },
  {
   "cell_type": "code",
   "execution_count": 20,
   "id": "6af53ee7",
   "metadata": {},
   "outputs": [
    {
     "data": {
      "text/plain": [
       "34.851053592192876"
      ]
     },
     "execution_count": 20,
     "metadata": {},
     "output_type": "execute_result"
    }
   ],
   "source": [
    "dfJan['duration_minutes'].std()"
   ]
  },
  {
   "cell_type": "code",
   "execution_count": null,
   "id": "7d7a8b09",
   "metadata": {},
   "outputs": [],
   "source": [
    "dfJan['duration_minutes'].std()"
   ]
  },
  {
   "cell_type": "code",
   "execution_count": null,
   "id": "6700e34f",
   "metadata": {},
   "outputs": [],
   "source": [
    "# Check the initial number of recordsdfJan['dur'].std()"
   ]
  },
  {
   "cell_type": "code",
   "execution_count": 22,
   "id": "d9d4cb00",
   "metadata": {},
   "outputs": [
    {
     "data": {
      "text/plain": [
       "2964624"
      ]
     },
     "execution_count": 22,
     "metadata": {},
     "output_type": "execute_result"
    }
   ],
   "source": [
    "# Check the initial number of records\n",
    "initial_count = dfJan.shape[0]\n",
    "initial_count"
   ]
  },
  {
   "cell_type": "code",
   "execution_count": 23,
   "id": "e8f3e5b9",
   "metadata": {},
   "outputs": [],
   "source": [
    "# Filter the records to keep only those where duration is between 1 and 60 minutes (inclusive)\n",
    "filtered_dfJan = dfJan[dfJan['duration_minutes'].between(1, 60, inclusive='both')]"
   ]
  },
  {
   "cell_type": "code",
   "execution_count": 26,
   "id": "b46428c2",
   "metadata": {},
   "outputs": [
    {
     "data": {
      "text/plain": [
       "2898906"
      ]
     },
     "execution_count": 26,
     "metadata": {},
     "output_type": "execute_result"
    }
   ],
   "source": [
    "# Check the number of records after filtering\n",
    "filtered_count = filtered_dfJan.shape[0]\n",
    "filtered_count"
   ]
  },
  {
   "cell_type": "code",
   "execution_count": 36,
   "id": "664f2985",
   "metadata": {},
   "outputs": [
    {
     "data": {
      "text/plain": [
       "98"
      ]
     },
     "execution_count": 36,
     "metadata": {},
     "output_type": "execute_result"
    }
   ],
   "source": [
    "# Calculate the fraction of records left after removing outliers\n",
    "fraction_left = filtered_count / initial_count\n",
    "percentage_left = round(fraction_left * 100) \n",
    "fraction_left\n",
    "percentage_left"
   ]
  },
  {
   "cell_type": "code",
   "execution_count": 39,
   "id": "a7b051f4",
   "metadata": {},
   "outputs": [
    {
     "name": "stdout",
     "output_type": "stream",
     "text": [
      "Initial number of records: 2964624\n",
      "Number of records after filtering: 2898906\n",
      "Fraction of records left: 0.98\n",
      "Percentage of records left is: 98%\n"
     ]
    }
   ],
   "source": [
    "print(f\"Initial number of records: {initial_count}\")\n",
    "print(f\"Number of records after filtering: {filtered_count}\")\n",
    "print(f\"Fraction of records left: {fraction_left:.2f}\")\n",
    "print(f\"Percentage of records left is: {percentage_left}%\")"
   ]
  },
  {
   "cell_type": "code",
   "execution_count": 40,
   "id": "66367d17",
   "metadata": {},
   "outputs": [
    {
     "data": {
      "text/html": [
       "<div>\n",
       "<style scoped>\n",
       "    .dataframe tbody tr th:only-of-type {\n",
       "        vertical-align: middle;\n",
       "    }\n",
       "\n",
       "    .dataframe tbody tr th {\n",
       "        vertical-align: top;\n",
       "    }\n",
       "\n",
       "    .dataframe thead th {\n",
       "        text-align: right;\n",
       "    }\n",
       "</style>\n",
       "<table border=\"1\" class=\"dataframe\">\n",
       "  <thead>\n",
       "    <tr style=\"text-align: right;\">\n",
       "      <th></th>\n",
       "      <th>VendorID</th>\n",
       "      <th>tpep_pickup_datetime</th>\n",
       "      <th>tpep_dropoff_datetime</th>\n",
       "      <th>passenger_count</th>\n",
       "      <th>trip_distance</th>\n",
       "      <th>RatecodeID</th>\n",
       "      <th>store_and_fwd_flag</th>\n",
       "      <th>PULocationID</th>\n",
       "      <th>DOLocationID</th>\n",
       "      <th>payment_type</th>\n",
       "      <th>...</th>\n",
       "      <th>tip_amount</th>\n",
       "      <th>tolls_amount</th>\n",
       "      <th>improvement_surcharge</th>\n",
       "      <th>total_amount</th>\n",
       "      <th>congestion_surcharge</th>\n",
       "      <th>Airport_fee</th>\n",
       "      <th>pickup_in_mins</th>\n",
       "      <th>dropoff_in_mins</th>\n",
       "      <th>duration_minutes</th>\n",
       "      <th>dur</th>\n",
       "    </tr>\n",
       "  </thead>\n",
       "  <tbody>\n",
       "    <tr>\n",
       "      <th>0</th>\n",
       "      <td>2</td>\n",
       "      <td>2024-01-01 00:57:55</td>\n",
       "      <td>2024-01-01 01:17:43</td>\n",
       "      <td>1.0</td>\n",
       "      <td>1.72</td>\n",
       "      <td>1.0</td>\n",
       "      <td>N</td>\n",
       "      <td>186</td>\n",
       "      <td>79</td>\n",
       "      <td>2</td>\n",
       "      <td>...</td>\n",
       "      <td>0.00</td>\n",
       "      <td>0.0</td>\n",
       "      <td>1.0</td>\n",
       "      <td>22.70</td>\n",
       "      <td>2.5</td>\n",
       "      <td>0.0</td>\n",
       "      <td>57</td>\n",
       "      <td>17</td>\n",
       "      <td>19.800000</td>\n",
       "      <td>40</td>\n",
       "    </tr>\n",
       "    <tr>\n",
       "      <th>1</th>\n",
       "      <td>1</td>\n",
       "      <td>2024-01-01 00:03:00</td>\n",
       "      <td>2024-01-01 00:09:36</td>\n",
       "      <td>1.0</td>\n",
       "      <td>1.80</td>\n",
       "      <td>1.0</td>\n",
       "      <td>N</td>\n",
       "      <td>140</td>\n",
       "      <td>236</td>\n",
       "      <td>1</td>\n",
       "      <td>...</td>\n",
       "      <td>3.75</td>\n",
       "      <td>0.0</td>\n",
       "      <td>1.0</td>\n",
       "      <td>18.75</td>\n",
       "      <td>2.5</td>\n",
       "      <td>0.0</td>\n",
       "      <td>3</td>\n",
       "      <td>9</td>\n",
       "      <td>6.600000</td>\n",
       "      <td>-6</td>\n",
       "    </tr>\n",
       "    <tr>\n",
       "      <th>2</th>\n",
       "      <td>1</td>\n",
       "      <td>2024-01-01 00:17:06</td>\n",
       "      <td>2024-01-01 00:35:01</td>\n",
       "      <td>1.0</td>\n",
       "      <td>4.70</td>\n",
       "      <td>1.0</td>\n",
       "      <td>N</td>\n",
       "      <td>236</td>\n",
       "      <td>79</td>\n",
       "      <td>1</td>\n",
       "      <td>...</td>\n",
       "      <td>3.00</td>\n",
       "      <td>0.0</td>\n",
       "      <td>1.0</td>\n",
       "      <td>31.30</td>\n",
       "      <td>2.5</td>\n",
       "      <td>0.0</td>\n",
       "      <td>17</td>\n",
       "      <td>35</td>\n",
       "      <td>17.916667</td>\n",
       "      <td>-18</td>\n",
       "    </tr>\n",
       "    <tr>\n",
       "      <th>3</th>\n",
       "      <td>1</td>\n",
       "      <td>2024-01-01 00:36:38</td>\n",
       "      <td>2024-01-01 00:44:56</td>\n",
       "      <td>1.0</td>\n",
       "      <td>1.40</td>\n",
       "      <td>1.0</td>\n",
       "      <td>N</td>\n",
       "      <td>79</td>\n",
       "      <td>211</td>\n",
       "      <td>1</td>\n",
       "      <td>...</td>\n",
       "      <td>2.00</td>\n",
       "      <td>0.0</td>\n",
       "      <td>1.0</td>\n",
       "      <td>17.00</td>\n",
       "      <td>2.5</td>\n",
       "      <td>0.0</td>\n",
       "      <td>36</td>\n",
       "      <td>44</td>\n",
       "      <td>8.300000</td>\n",
       "      <td>-8</td>\n",
       "    </tr>\n",
       "    <tr>\n",
       "      <th>4</th>\n",
       "      <td>1</td>\n",
       "      <td>2024-01-01 00:46:51</td>\n",
       "      <td>2024-01-01 00:52:57</td>\n",
       "      <td>1.0</td>\n",
       "      <td>0.80</td>\n",
       "      <td>1.0</td>\n",
       "      <td>N</td>\n",
       "      <td>211</td>\n",
       "      <td>148</td>\n",
       "      <td>1</td>\n",
       "      <td>...</td>\n",
       "      <td>3.20</td>\n",
       "      <td>0.0</td>\n",
       "      <td>1.0</td>\n",
       "      <td>16.10</td>\n",
       "      <td>2.5</td>\n",
       "      <td>0.0</td>\n",
       "      <td>46</td>\n",
       "      <td>52</td>\n",
       "      <td>6.100000</td>\n",
       "      <td>-6</td>\n",
       "    </tr>\n",
       "  </tbody>\n",
       "</table>\n",
       "<p>5 rows × 23 columns</p>\n",
       "</div>"
      ],
      "text/plain": [
       "   VendorID tpep_pickup_datetime tpep_dropoff_datetime  passenger_count  \\\n",
       "0         2  2024-01-01 00:57:55   2024-01-01 01:17:43              1.0   \n",
       "1         1  2024-01-01 00:03:00   2024-01-01 00:09:36              1.0   \n",
       "2         1  2024-01-01 00:17:06   2024-01-01 00:35:01              1.0   \n",
       "3         1  2024-01-01 00:36:38   2024-01-01 00:44:56              1.0   \n",
       "4         1  2024-01-01 00:46:51   2024-01-01 00:52:57              1.0   \n",
       "\n",
       "   trip_distance  RatecodeID store_and_fwd_flag  PULocationID  DOLocationID  \\\n",
       "0           1.72         1.0                  N           186            79   \n",
       "1           1.80         1.0                  N           140           236   \n",
       "2           4.70         1.0                  N           236            79   \n",
       "3           1.40         1.0                  N            79           211   \n",
       "4           0.80         1.0                  N           211           148   \n",
       "\n",
       "   payment_type  ...  tip_amount  tolls_amount  improvement_surcharge  \\\n",
       "0             2  ...        0.00           0.0                    1.0   \n",
       "1             1  ...        3.75           0.0                    1.0   \n",
       "2             1  ...        3.00           0.0                    1.0   \n",
       "3             1  ...        2.00           0.0                    1.0   \n",
       "4             1  ...        3.20           0.0                    1.0   \n",
       "\n",
       "   total_amount  congestion_surcharge  Airport_fee  pickup_in_mins  \\\n",
       "0         22.70                   2.5          0.0              57   \n",
       "1         18.75                   2.5          0.0               3   \n",
       "2         31.30                   2.5          0.0              17   \n",
       "3         17.00                   2.5          0.0              36   \n",
       "4         16.10                   2.5          0.0              46   \n",
       "\n",
       "   dropoff_in_mins  duration_minutes  dur  \n",
       "0               17         19.800000   40  \n",
       "1                9          6.600000   -6  \n",
       "2               35         17.916667  -18  \n",
       "3               44          8.300000   -8  \n",
       "4               52          6.100000   -6  \n",
       "\n",
       "[5 rows x 23 columns]"
      ]
     },
     "execution_count": 40,
     "metadata": {},
     "output_type": "execute_result"
    }
   ],
   "source": [
    "dfJan.head()"
   ]
  },
  {
   "cell_type": "code",
   "execution_count": 42,
   "id": "f629ee5c",
   "metadata": {},
   "outputs": [
    {
     "data": {
      "text/plain": [
       "VendorID                          int32\n",
       "tpep_pickup_datetime     datetime64[ns]\n",
       "tpep_dropoff_datetime    datetime64[ns]\n",
       "passenger_count                 float64\n",
       "trip_distance                   float64\n",
       "RatecodeID                      float64\n",
       "store_and_fwd_flag               object\n",
       "PULocationID                      int32\n",
       "DOLocationID                      int32\n",
       "payment_type                      int64\n",
       "fare_amount                     float64\n",
       "extra                           float64\n",
       "mta_tax                         float64\n",
       "tip_amount                      float64\n",
       "tolls_amount                    float64\n",
       "improvement_surcharge           float64\n",
       "total_amount                    float64\n",
       "congestion_surcharge            float64\n",
       "Airport_fee                     float64\n",
       "pickup_in_mins                    int64\n",
       "dropoff_in_mins                   int64\n",
       "duration_minutes                float64\n",
       "dur                               int64\n",
       "dtype: object"
      ]
     },
     "execution_count": 42,
     "metadata": {},
     "output_type": "execute_result"
    }
   ],
   "source": [
    "dfJan.dtypes"
   ]
  },
  {
   "cell_type": "code",
   "execution_count": 45,
   "id": "89d9900a",
   "metadata": {},
   "outputs": [
    {
     "data": {
      "text/html": [
       "<div>\n",
       "<style scoped>\n",
       "    .dataframe tbody tr th:only-of-type {\n",
       "        vertical-align: middle;\n",
       "    }\n",
       "\n",
       "    .dataframe tbody tr th {\n",
       "        vertical-align: top;\n",
       "    }\n",
       "\n",
       "    .dataframe thead th {\n",
       "        text-align: right;\n",
       "    }\n",
       "</style>\n",
       "<table border=\"1\" class=\"dataframe\">\n",
       "  <thead>\n",
       "    <tr style=\"text-align: right;\">\n",
       "      <th></th>\n",
       "      <th>PULocationID</th>\n",
       "      <th>DOLocationID</th>\n",
       "    </tr>\n",
       "  </thead>\n",
       "  <tbody>\n",
       "    <tr>\n",
       "      <th>0</th>\n",
       "      <td>186</td>\n",
       "      <td>79</td>\n",
       "    </tr>\n",
       "    <tr>\n",
       "      <th>1</th>\n",
       "      <td>140</td>\n",
       "      <td>236</td>\n",
       "    </tr>\n",
       "    <tr>\n",
       "      <th>2</th>\n",
       "      <td>236</td>\n",
       "      <td>79</td>\n",
       "    </tr>\n",
       "    <tr>\n",
       "      <th>3</th>\n",
       "      <td>79</td>\n",
       "      <td>211</td>\n",
       "    </tr>\n",
       "    <tr>\n",
       "      <th>4</th>\n",
       "      <td>211</td>\n",
       "      <td>148</td>\n",
       "    </tr>\n",
       "    <tr>\n",
       "      <th>...</th>\n",
       "      <td>...</td>\n",
       "      <td>...</td>\n",
       "    </tr>\n",
       "    <tr>\n",
       "      <th>2964619</th>\n",
       "      <td>107</td>\n",
       "      <td>263</td>\n",
       "    </tr>\n",
       "    <tr>\n",
       "      <th>2964620</th>\n",
       "      <td>114</td>\n",
       "      <td>236</td>\n",
       "    </tr>\n",
       "    <tr>\n",
       "      <th>2964621</th>\n",
       "      <td>211</td>\n",
       "      <td>25</td>\n",
       "    </tr>\n",
       "    <tr>\n",
       "      <th>2964622</th>\n",
       "      <td>107</td>\n",
       "      <td>13</td>\n",
       "    </tr>\n",
       "    <tr>\n",
       "      <th>2964623</th>\n",
       "      <td>138</td>\n",
       "      <td>75</td>\n",
       "    </tr>\n",
       "  </tbody>\n",
       "</table>\n",
       "<p>2964624 rows × 2 columns</p>\n",
       "</div>"
      ],
      "text/plain": [
       "         PULocationID  DOLocationID\n",
       "0                 186            79\n",
       "1                 140           236\n",
       "2                 236            79\n",
       "3                  79           211\n",
       "4                 211           148\n",
       "...               ...           ...\n",
       "2964619           107           263\n",
       "2964620           114           236\n",
       "2964621           211            25\n",
       "2964622           107            13\n",
       "2964623           138            75\n",
       "\n",
       "[2964624 rows x 2 columns]"
      ]
     },
     "execution_count": 45,
     "metadata": {},
     "output_type": "execute_result"
    }
   ],
   "source": [
    "data = dfJan[['PULocationID','DOLocationID']]\n",
    "data"
   ]
  },
  {
   "cell_type": "code",
   "execution_count": 46,
   "id": "90201c98",
   "metadata": {},
   "outputs": [
    {
     "name": "stderr",
     "output_type": "stream",
     "text": [
      "/tmp/ipykernel_3331/1926505176.py:2: SettingWithCopyWarning: \n",
      "A value is trying to be set on a copy of a slice from a DataFrame.\n",
      "Try using .loc[row_indexer,col_indexer] = value instead\n",
      "\n",
      "See the caveats in the documentation: https://pandas.pydata.org/pandas-docs/stable/user_guide/indexing.html#returning-a-view-versus-a-copy\n",
      "  data['pickup_location_id'] = data['PULocationID'].astype(str)\n",
      "/tmp/ipykernel_3331/1926505176.py:3: SettingWithCopyWarning: \n",
      "A value is trying to be set on a copy of a slice from a DataFrame.\n",
      "Try using .loc[row_indexer,col_indexer] = value instead\n",
      "\n",
      "See the caveats in the documentation: https://pandas.pydata.org/pandas-docs/stable/user_guide/indexing.html#returning-a-view-versus-a-copy\n",
      "  data['dropoff_location_id'] = data['DOLocationID'].astype(str)\n"
     ]
    }
   ],
   "source": [
    "#Convert the IDs to strings\n",
    "data['pickup_location_id'] = data['PULocationID'].astype(str)\n",
    "data['dropoff_location_id'] = data['DOLocationID'].astype(str)"
   ]
  },
  {
   "cell_type": "code",
   "execution_count": 50,
   "id": "4ad427ae",
   "metadata": {},
   "outputs": [],
   "source": [
    "#Turn the DataFrame into a list of dictionaries\n",
    "dict_list = data.to_dict(orient='records')"
   ]
  },
  {
   "cell_type": "code",
   "execution_count": 52,
   "id": "854b205d",
   "metadata": {},
   "outputs": [
    {
     "data": {
      "text/plain": [
       "DictVectorizer(sparse=False)"
      ]
     },
     "execution_count": 52,
     "metadata": {},
     "output_type": "execute_result"
    }
   ],
   "source": [
    "from sklearn.feature_extraction import DictVectorizer\n",
    "\n",
    "# Step 3: Fit a DictVectorizer\n",
    "vectorizer = DictVectorizer(sparse=False)\n",
    "vectorizer.fit(dict_list)"
   ]
  },
  {
   "cell_type": "code",
   "execution_count": 56,
   "id": "94cba70b",
   "metadata": {},
   "outputs": [
    {
     "ename": "MemoryError",
     "evalue": "Unable to allocate 11.6 GiB for an array with shape (2964624, 523) and data type float64",
     "output_type": "error",
     "traceback": [
      "\u001b[0;31m---------------------------------------------------------------------------\u001b[0m",
      "\u001b[0;31mMemoryError\u001b[0m                               Traceback (most recent call last)",
      "Input \u001b[0;32mIn [56]\u001b[0m, in \u001b[0;36m<cell line: 2>\u001b[0;34m()\u001b[0m\n\u001b[1;32m      1\u001b[0m \u001b[38;5;66;03m# Transform the list of dictionaries into a feature matrix\u001b[39;00m\n\u001b[0;32m----> 2\u001b[0m feature_matrix \u001b[38;5;241m=\u001b[39m \u001b[43mvectorizer\u001b[49m\u001b[38;5;241;43m.\u001b[39;49m\u001b[43mtransform\u001b[49m\u001b[43m(\u001b[49m\u001b[43mdict_list\u001b[49m\u001b[43m)\u001b[49m\n",
      "File \u001b[0;32m~/anaconda3/lib/python3.9/site-packages/sklearn/feature_extraction/_dict_vectorizer.py:373\u001b[0m, in \u001b[0;36mDictVectorizer.transform\u001b[0;34m(self, X)\u001b[0m\n\u001b[1;32m    356\u001b[0m \u001b[38;5;28;01mdef\u001b[39;00m \u001b[38;5;21mtransform\u001b[39m(\u001b[38;5;28mself\u001b[39m, X):\n\u001b[1;32m    357\u001b[0m     \u001b[38;5;124;03m\"\"\"Transform feature->value dicts to array or sparse matrix.\u001b[39;00m\n\u001b[1;32m    358\u001b[0m \n\u001b[1;32m    359\u001b[0m \u001b[38;5;124;03m    Named features not encountered during fit or fit_transform will be\u001b[39;00m\n\u001b[0;32m   (...)\u001b[0m\n\u001b[1;32m    371\u001b[0m \u001b[38;5;124;03m        Feature vectors; always 2-d.\u001b[39;00m\n\u001b[1;32m    372\u001b[0m \u001b[38;5;124;03m    \"\"\"\u001b[39;00m\n\u001b[0;32m--> 373\u001b[0m     \u001b[38;5;28;01mreturn\u001b[39;00m \u001b[38;5;28;43mself\u001b[39;49m\u001b[38;5;241;43m.\u001b[39;49m\u001b[43m_transform\u001b[49m\u001b[43m(\u001b[49m\u001b[43mX\u001b[49m\u001b[43m,\u001b[49m\u001b[43m \u001b[49m\u001b[43mfitting\u001b[49m\u001b[38;5;241;43m=\u001b[39;49m\u001b[38;5;28;43;01mFalse\u001b[39;49;00m\u001b[43m)\u001b[49m\n",
      "File \u001b[0;32m~/anaconda3/lib/python3.9/site-packages/sklearn/feature_extraction/_dict_vectorizer.py:282\u001b[0m, in \u001b[0;36mDictVectorizer._transform\u001b[0;34m(self, X, fitting)\u001b[0m\n\u001b[1;32m    280\u001b[0m     result_matrix\u001b[38;5;241m.\u001b[39msort_indices()\n\u001b[1;32m    281\u001b[0m \u001b[38;5;28;01melse\u001b[39;00m:\n\u001b[0;32m--> 282\u001b[0m     result_matrix \u001b[38;5;241m=\u001b[39m \u001b[43mresult_matrix\u001b[49m\u001b[38;5;241;43m.\u001b[39;49m\u001b[43mtoarray\u001b[49m\u001b[43m(\u001b[49m\u001b[43m)\u001b[49m\n\u001b[1;32m    284\u001b[0m \u001b[38;5;28;01mif\u001b[39;00m fitting:\n\u001b[1;32m    285\u001b[0m     \u001b[38;5;28mself\u001b[39m\u001b[38;5;241m.\u001b[39mfeature_names_ \u001b[38;5;241m=\u001b[39m feature_names\n",
      "File \u001b[0;32m~/anaconda3/lib/python3.9/site-packages/scipy/sparse/compressed.py:1039\u001b[0m, in \u001b[0;36m_cs_matrix.toarray\u001b[0;34m(self, order, out)\u001b[0m\n\u001b[1;32m   1037\u001b[0m \u001b[38;5;28;01mif\u001b[39;00m out \u001b[38;5;129;01mis\u001b[39;00m \u001b[38;5;28;01mNone\u001b[39;00m \u001b[38;5;129;01mand\u001b[39;00m order \u001b[38;5;129;01mis\u001b[39;00m \u001b[38;5;28;01mNone\u001b[39;00m:\n\u001b[1;32m   1038\u001b[0m     order \u001b[38;5;241m=\u001b[39m \u001b[38;5;28mself\u001b[39m\u001b[38;5;241m.\u001b[39m_swap(\u001b[38;5;124m'\u001b[39m\u001b[38;5;124mcf\u001b[39m\u001b[38;5;124m'\u001b[39m)[\u001b[38;5;241m0\u001b[39m]\n\u001b[0;32m-> 1039\u001b[0m out \u001b[38;5;241m=\u001b[39m \u001b[38;5;28;43mself\u001b[39;49m\u001b[38;5;241;43m.\u001b[39;49m\u001b[43m_process_toarray_args\u001b[49m\u001b[43m(\u001b[49m\u001b[43morder\u001b[49m\u001b[43m,\u001b[49m\u001b[43m \u001b[49m\u001b[43mout\u001b[49m\u001b[43m)\u001b[49m\n\u001b[1;32m   1040\u001b[0m \u001b[38;5;28;01mif\u001b[39;00m \u001b[38;5;129;01mnot\u001b[39;00m (out\u001b[38;5;241m.\u001b[39mflags\u001b[38;5;241m.\u001b[39mc_contiguous \u001b[38;5;129;01mor\u001b[39;00m out\u001b[38;5;241m.\u001b[39mflags\u001b[38;5;241m.\u001b[39mf_contiguous):\n\u001b[1;32m   1041\u001b[0m     \u001b[38;5;28;01mraise\u001b[39;00m \u001b[38;5;167;01mValueError\u001b[39;00m(\u001b[38;5;124m'\u001b[39m\u001b[38;5;124mOutput array must be C or F contiguous\u001b[39m\u001b[38;5;124m'\u001b[39m)\n",
      "File \u001b[0;32m~/anaconda3/lib/python3.9/site-packages/scipy/sparse/base.py:1202\u001b[0m, in \u001b[0;36mspmatrix._process_toarray_args\u001b[0;34m(self, order, out)\u001b[0m\n\u001b[1;32m   1200\u001b[0m     \u001b[38;5;28;01mreturn\u001b[39;00m out\n\u001b[1;32m   1201\u001b[0m \u001b[38;5;28;01melse\u001b[39;00m:\n\u001b[0;32m-> 1202\u001b[0m     \u001b[38;5;28;01mreturn\u001b[39;00m \u001b[43mnp\u001b[49m\u001b[38;5;241;43m.\u001b[39;49m\u001b[43mzeros\u001b[49m\u001b[43m(\u001b[49m\u001b[38;5;28;43mself\u001b[39;49m\u001b[38;5;241;43m.\u001b[39;49m\u001b[43mshape\u001b[49m\u001b[43m,\u001b[49m\u001b[43m \u001b[49m\u001b[43mdtype\u001b[49m\u001b[38;5;241;43m=\u001b[39;49m\u001b[38;5;28;43mself\u001b[39;49m\u001b[38;5;241;43m.\u001b[39;49m\u001b[43mdtype\u001b[49m\u001b[43m,\u001b[49m\u001b[43m \u001b[49m\u001b[43morder\u001b[49m\u001b[38;5;241;43m=\u001b[39;49m\u001b[43morder\u001b[49m\u001b[43m)\u001b[49m\n",
      "\u001b[0;31mMemoryError\u001b[0m: Unable to allocate 11.6 GiB for an array with shape (2964624, 523) and data type float64"
     ]
    }
   ],
   "source": [
    "# Transform the list of dictionaries into a feature matrix\n",
    "feature_matrix = vectorizer.transform(dict_list)"
   ]
  },
  {
   "cell_type": "code",
   "execution_count": 55,
   "id": "8ed597ab",
   "metadata": {},
   "outputs": [
    {
     "name": "stdout",
     "output_type": "stream",
     "text": [
      "Feature Names: ['DOLocationID' 'PULocationID' 'dropoff_location_id=1'\n",
      " 'dropoff_location_id=10' 'dropoff_location_id=100'\n",
      " 'dropoff_location_id=101' 'dropoff_location_id=102'\n",
      " 'dropoff_location_id=105' 'dropoff_location_id=106'\n",
      " 'dropoff_location_id=107' 'dropoff_location_id=108'\n",
      " 'dropoff_location_id=109' 'dropoff_location_id=11'\n",
      " 'dropoff_location_id=111' 'dropoff_location_id=112'\n",
      " 'dropoff_location_id=113' 'dropoff_location_id=114'\n",
      " 'dropoff_location_id=115' 'dropoff_location_id=116'\n",
      " 'dropoff_location_id=117' 'dropoff_location_id=118'\n",
      " 'dropoff_location_id=119' 'dropoff_location_id=12'\n",
      " 'dropoff_location_id=120' 'dropoff_location_id=121'\n",
      " 'dropoff_location_id=122' 'dropoff_location_id=123'\n",
      " 'dropoff_location_id=124' 'dropoff_location_id=125'\n",
      " 'dropoff_location_id=126' 'dropoff_location_id=127'\n",
      " 'dropoff_location_id=128' 'dropoff_location_id=129'\n",
      " 'dropoff_location_id=13' 'dropoff_location_id=130'\n",
      " 'dropoff_location_id=131' 'dropoff_location_id=132'\n",
      " 'dropoff_location_id=133' 'dropoff_location_id=134'\n",
      " 'dropoff_location_id=135' 'dropoff_location_id=136'\n",
      " 'dropoff_location_id=137' 'dropoff_location_id=138'\n",
      " 'dropoff_location_id=139' 'dropoff_location_id=14'\n",
      " 'dropoff_location_id=140' 'dropoff_location_id=141'\n",
      " 'dropoff_location_id=142' 'dropoff_location_id=143'\n",
      " 'dropoff_location_id=144' 'dropoff_location_id=145'\n",
      " 'dropoff_location_id=146' 'dropoff_location_id=147'\n",
      " 'dropoff_location_id=148' 'dropoff_location_id=149'\n",
      " 'dropoff_location_id=15' 'dropoff_location_id=150'\n",
      " 'dropoff_location_id=151' 'dropoff_location_id=152'\n",
      " 'dropoff_location_id=153' 'dropoff_location_id=154'\n",
      " 'dropoff_location_id=155' 'dropoff_location_id=156'\n",
      " 'dropoff_location_id=157' 'dropoff_location_id=158'\n",
      " 'dropoff_location_id=159' 'dropoff_location_id=16'\n",
      " 'dropoff_location_id=160' 'dropoff_location_id=161'\n",
      " 'dropoff_location_id=162' 'dropoff_location_id=163'\n",
      " 'dropoff_location_id=164' 'dropoff_location_id=165'\n",
      " 'dropoff_location_id=166' 'dropoff_location_id=167'\n",
      " 'dropoff_location_id=168' 'dropoff_location_id=169'\n",
      " 'dropoff_location_id=17' 'dropoff_location_id=170'\n",
      " 'dropoff_location_id=171' 'dropoff_location_id=172'\n",
      " 'dropoff_location_id=173' 'dropoff_location_id=174'\n",
      " 'dropoff_location_id=175' 'dropoff_location_id=176'\n",
      " 'dropoff_location_id=177' 'dropoff_location_id=178'\n",
      " 'dropoff_location_id=179' 'dropoff_location_id=18'\n",
      " 'dropoff_location_id=180' 'dropoff_location_id=181'\n",
      " 'dropoff_location_id=182' 'dropoff_location_id=183'\n",
      " 'dropoff_location_id=184' 'dropoff_location_id=185'\n",
      " 'dropoff_location_id=186' 'dropoff_location_id=187'\n",
      " 'dropoff_location_id=188' 'dropoff_location_id=189'\n",
      " 'dropoff_location_id=19' 'dropoff_location_id=190'\n",
      " 'dropoff_location_id=191' 'dropoff_location_id=192'\n",
      " 'dropoff_location_id=193' 'dropoff_location_id=194'\n",
      " 'dropoff_location_id=195' 'dropoff_location_id=196'\n",
      " 'dropoff_location_id=197' 'dropoff_location_id=198'\n",
      " 'dropoff_location_id=2' 'dropoff_location_id=20'\n",
      " 'dropoff_location_id=200' 'dropoff_location_id=201'\n",
      " 'dropoff_location_id=202' 'dropoff_location_id=203'\n",
      " 'dropoff_location_id=204' 'dropoff_location_id=205'\n",
      " 'dropoff_location_id=206' 'dropoff_location_id=207'\n",
      " 'dropoff_location_id=208' 'dropoff_location_id=209'\n",
      " 'dropoff_location_id=21' 'dropoff_location_id=210'\n",
      " 'dropoff_location_id=211' 'dropoff_location_id=212'\n",
      " 'dropoff_location_id=213' 'dropoff_location_id=214'\n",
      " 'dropoff_location_id=215' 'dropoff_location_id=216'\n",
      " 'dropoff_location_id=217' 'dropoff_location_id=218'\n",
      " 'dropoff_location_id=219' 'dropoff_location_id=22'\n",
      " 'dropoff_location_id=220' 'dropoff_location_id=221'\n",
      " 'dropoff_location_id=222' 'dropoff_location_id=223'\n",
      " 'dropoff_location_id=224' 'dropoff_location_id=225'\n",
      " 'dropoff_location_id=226' 'dropoff_location_id=227'\n",
      " 'dropoff_location_id=228' 'dropoff_location_id=229'\n",
      " 'dropoff_location_id=23' 'dropoff_location_id=230'\n",
      " 'dropoff_location_id=231' 'dropoff_location_id=232'\n",
      " 'dropoff_location_id=233' 'dropoff_location_id=234'\n",
      " 'dropoff_location_id=235' 'dropoff_location_id=236'\n",
      " 'dropoff_location_id=237' 'dropoff_location_id=238'\n",
      " 'dropoff_location_id=239' 'dropoff_location_id=24'\n",
      " 'dropoff_location_id=240' 'dropoff_location_id=241'\n",
      " 'dropoff_location_id=242' 'dropoff_location_id=243'\n",
      " 'dropoff_location_id=244' 'dropoff_location_id=245'\n",
      " 'dropoff_location_id=246' 'dropoff_location_id=247'\n",
      " 'dropoff_location_id=248' 'dropoff_location_id=249'\n",
      " 'dropoff_location_id=25' 'dropoff_location_id=250'\n",
      " 'dropoff_location_id=251' 'dropoff_location_id=252'\n",
      " 'dropoff_location_id=253' 'dropoff_location_id=254'\n",
      " 'dropoff_location_id=255' 'dropoff_location_id=256'\n",
      " 'dropoff_location_id=257' 'dropoff_location_id=258'\n",
      " 'dropoff_location_id=259' 'dropoff_location_id=26'\n",
      " 'dropoff_location_id=260' 'dropoff_location_id=261'\n",
      " 'dropoff_location_id=262' 'dropoff_location_id=263'\n",
      " 'dropoff_location_id=264' 'dropoff_location_id=265'\n",
      " 'dropoff_location_id=27' 'dropoff_location_id=28'\n",
      " 'dropoff_location_id=29' 'dropoff_location_id=3' 'dropoff_location_id=30'\n",
      " 'dropoff_location_id=31' 'dropoff_location_id=32'\n",
      " 'dropoff_location_id=33' 'dropoff_location_id=34'\n",
      " 'dropoff_location_id=35' 'dropoff_location_id=36'\n",
      " 'dropoff_location_id=37' 'dropoff_location_id=38'\n",
      " 'dropoff_location_id=39' 'dropoff_location_id=4' 'dropoff_location_id=40'\n",
      " 'dropoff_location_id=41' 'dropoff_location_id=42'\n",
      " 'dropoff_location_id=43' 'dropoff_location_id=44'\n",
      " 'dropoff_location_id=45' 'dropoff_location_id=46'\n",
      " 'dropoff_location_id=47' 'dropoff_location_id=48'\n",
      " 'dropoff_location_id=49' 'dropoff_location_id=5' 'dropoff_location_id=50'\n",
      " 'dropoff_location_id=51' 'dropoff_location_id=52'\n",
      " 'dropoff_location_id=53' 'dropoff_location_id=54'\n",
      " 'dropoff_location_id=55' 'dropoff_location_id=56'\n",
      " 'dropoff_location_id=57' 'dropoff_location_id=58'\n",
      " 'dropoff_location_id=59' 'dropoff_location_id=6' 'dropoff_location_id=60'\n",
      " 'dropoff_location_id=61' 'dropoff_location_id=62'\n",
      " 'dropoff_location_id=63' 'dropoff_location_id=64'\n",
      " 'dropoff_location_id=65' 'dropoff_location_id=66'\n",
      " 'dropoff_location_id=67' 'dropoff_location_id=68'\n",
      " 'dropoff_location_id=69' 'dropoff_location_id=7' 'dropoff_location_id=70'\n",
      " 'dropoff_location_id=71' 'dropoff_location_id=72'\n",
      " 'dropoff_location_id=73' 'dropoff_location_id=74'\n",
      " 'dropoff_location_id=75' 'dropoff_location_id=76'\n",
      " 'dropoff_location_id=77' 'dropoff_location_id=78'\n",
      " 'dropoff_location_id=79' 'dropoff_location_id=8' 'dropoff_location_id=80'\n",
      " 'dropoff_location_id=81' 'dropoff_location_id=82'\n",
      " 'dropoff_location_id=83' 'dropoff_location_id=84'\n",
      " 'dropoff_location_id=85' 'dropoff_location_id=86'\n",
      " 'dropoff_location_id=87' 'dropoff_location_id=88'\n",
      " 'dropoff_location_id=89' 'dropoff_location_id=9' 'dropoff_location_id=90'\n",
      " 'dropoff_location_id=91' 'dropoff_location_id=92'\n",
      " 'dropoff_location_id=93' 'dropoff_location_id=94'\n",
      " 'dropoff_location_id=95' 'dropoff_location_id=96'\n",
      " 'dropoff_location_id=97' 'dropoff_location_id=98'\n",
      " 'dropoff_location_id=99' 'pickup_location_id=1' 'pickup_location_id=10'\n",
      " 'pickup_location_id=100' 'pickup_location_id=101'\n",
      " 'pickup_location_id=102' 'pickup_location_id=105'\n",
      " 'pickup_location_id=106' 'pickup_location_id=107'\n",
      " 'pickup_location_id=108' 'pickup_location_id=109' 'pickup_location_id=11'\n",
      " 'pickup_location_id=111' 'pickup_location_id=112'\n",
      " 'pickup_location_id=113' 'pickup_location_id=114'\n",
      " 'pickup_location_id=115' 'pickup_location_id=116'\n",
      " 'pickup_location_id=117' 'pickup_location_id=118'\n",
      " 'pickup_location_id=119' 'pickup_location_id=12' 'pickup_location_id=120'\n",
      " 'pickup_location_id=121' 'pickup_location_id=122'\n",
      " 'pickup_location_id=123' 'pickup_location_id=124'\n",
      " 'pickup_location_id=125' 'pickup_location_id=126'\n",
      " 'pickup_location_id=127' 'pickup_location_id=128'\n",
      " 'pickup_location_id=129' 'pickup_location_id=13' 'pickup_location_id=130'\n",
      " 'pickup_location_id=131' 'pickup_location_id=132'\n",
      " 'pickup_location_id=133' 'pickup_location_id=134'\n",
      " 'pickup_location_id=135' 'pickup_location_id=136'\n",
      " 'pickup_location_id=137' 'pickup_location_id=138'\n",
      " 'pickup_location_id=139' 'pickup_location_id=14' 'pickup_location_id=140'\n",
      " 'pickup_location_id=141' 'pickup_location_id=142'\n",
      " 'pickup_location_id=143' 'pickup_location_id=144'\n",
      " 'pickup_location_id=145' 'pickup_location_id=146'\n",
      " 'pickup_location_id=147' 'pickup_location_id=148'\n",
      " 'pickup_location_id=149' 'pickup_location_id=15' 'pickup_location_id=150'\n",
      " 'pickup_location_id=151' 'pickup_location_id=152'\n",
      " 'pickup_location_id=153' 'pickup_location_id=154'\n",
      " 'pickup_location_id=155' 'pickup_location_id=156'\n",
      " 'pickup_location_id=157' 'pickup_location_id=158'\n",
      " 'pickup_location_id=159' 'pickup_location_id=16' 'pickup_location_id=160'\n",
      " 'pickup_location_id=161' 'pickup_location_id=162'\n",
      " 'pickup_location_id=163' 'pickup_location_id=164'\n",
      " 'pickup_location_id=165' 'pickup_location_id=166'\n",
      " 'pickup_location_id=167' 'pickup_location_id=168'\n",
      " 'pickup_location_id=169' 'pickup_location_id=17' 'pickup_location_id=170'\n",
      " 'pickup_location_id=171' 'pickup_location_id=172'\n",
      " 'pickup_location_id=173' 'pickup_location_id=174'\n",
      " 'pickup_location_id=175' 'pickup_location_id=176'\n",
      " 'pickup_location_id=177' 'pickup_location_id=178'\n",
      " 'pickup_location_id=179' 'pickup_location_id=18' 'pickup_location_id=180'\n",
      " 'pickup_location_id=181' 'pickup_location_id=182'\n",
      " 'pickup_location_id=183' 'pickup_location_id=184'\n",
      " 'pickup_location_id=185' 'pickup_location_id=186'\n",
      " 'pickup_location_id=187' 'pickup_location_id=188'\n",
      " 'pickup_location_id=189' 'pickup_location_id=19' 'pickup_location_id=190'\n",
      " 'pickup_location_id=191' 'pickup_location_id=192'\n",
      " 'pickup_location_id=193' 'pickup_location_id=194'\n",
      " 'pickup_location_id=195' 'pickup_location_id=196'\n",
      " 'pickup_location_id=197' 'pickup_location_id=198'\n",
      " 'pickup_location_id=199' 'pickup_location_id=2' 'pickup_location_id=20'\n",
      " 'pickup_location_id=200' 'pickup_location_id=201'\n",
      " 'pickup_location_id=202' 'pickup_location_id=203'\n",
      " 'pickup_location_id=204' 'pickup_location_id=205'\n",
      " 'pickup_location_id=206' 'pickup_location_id=207'\n",
      " 'pickup_location_id=208' 'pickup_location_id=209' 'pickup_location_id=21'\n",
      " 'pickup_location_id=210' 'pickup_location_id=211'\n",
      " 'pickup_location_id=212' 'pickup_location_id=213'\n",
      " 'pickup_location_id=214' 'pickup_location_id=215'\n",
      " 'pickup_location_id=216' 'pickup_location_id=217'\n",
      " 'pickup_location_id=218' 'pickup_location_id=219' 'pickup_location_id=22'\n",
      " 'pickup_location_id=220' 'pickup_location_id=221'\n",
      " 'pickup_location_id=222' 'pickup_location_id=223'\n",
      " 'pickup_location_id=224' 'pickup_location_id=225'\n",
      " 'pickup_location_id=226' 'pickup_location_id=227'\n",
      " 'pickup_location_id=228' 'pickup_location_id=229' 'pickup_location_id=23'\n",
      " 'pickup_location_id=230' 'pickup_location_id=231'\n",
      " 'pickup_location_id=232' 'pickup_location_id=233'\n",
      " 'pickup_location_id=234' 'pickup_location_id=235'\n",
      " 'pickup_location_id=236' 'pickup_location_id=237'\n",
      " 'pickup_location_id=238' 'pickup_location_id=239' 'pickup_location_id=24'\n",
      " 'pickup_location_id=240' 'pickup_location_id=241'\n",
      " 'pickup_location_id=242' 'pickup_location_id=243'\n",
      " 'pickup_location_id=244' 'pickup_location_id=245'\n",
      " 'pickup_location_id=246' 'pickup_location_id=247'\n",
      " 'pickup_location_id=248' 'pickup_location_id=249' 'pickup_location_id=25'\n",
      " 'pickup_location_id=250' 'pickup_location_id=251'\n",
      " 'pickup_location_id=252' 'pickup_location_id=253'\n",
      " 'pickup_location_id=254' 'pickup_location_id=255'\n",
      " 'pickup_location_id=256' 'pickup_location_id=257'\n",
      " 'pickup_location_id=258' 'pickup_location_id=259' 'pickup_location_id=26'\n",
      " 'pickup_location_id=260' 'pickup_location_id=261'\n",
      " 'pickup_location_id=262' 'pickup_location_id=263'\n",
      " 'pickup_location_id=264' 'pickup_location_id=265' 'pickup_location_id=27'\n",
      " 'pickup_location_id=28' 'pickup_location_id=29' 'pickup_location_id=3'\n",
      " 'pickup_location_id=30' 'pickup_location_id=31' 'pickup_location_id=32'\n",
      " 'pickup_location_id=33' 'pickup_location_id=34' 'pickup_location_id=35'\n",
      " 'pickup_location_id=36' 'pickup_location_id=37' 'pickup_location_id=38'\n",
      " 'pickup_location_id=39' 'pickup_location_id=4' 'pickup_location_id=40'\n",
      " 'pickup_location_id=41' 'pickup_location_id=42' 'pickup_location_id=43'\n",
      " 'pickup_location_id=44' 'pickup_location_id=45' 'pickup_location_id=46'\n",
      " 'pickup_location_id=47' 'pickup_location_id=48' 'pickup_location_id=49'\n",
      " 'pickup_location_id=50' 'pickup_location_id=51' 'pickup_location_id=52'\n",
      " 'pickup_location_id=53' 'pickup_location_id=54' 'pickup_location_id=55'\n",
      " 'pickup_location_id=56' 'pickup_location_id=57' 'pickup_location_id=58'\n",
      " 'pickup_location_id=59' 'pickup_location_id=6' 'pickup_location_id=60'\n",
      " 'pickup_location_id=61' 'pickup_location_id=62' 'pickup_location_id=63'\n",
      " 'pickup_location_id=64' 'pickup_location_id=65' 'pickup_location_id=66'\n",
      " 'pickup_location_id=67' 'pickup_location_id=68' 'pickup_location_id=69'\n",
      " 'pickup_location_id=7' 'pickup_location_id=70' 'pickup_location_id=71'\n",
      " 'pickup_location_id=72' 'pickup_location_id=73' 'pickup_location_id=74'\n",
      " 'pickup_location_id=75' 'pickup_location_id=76' 'pickup_location_id=77'\n",
      " 'pickup_location_id=78' 'pickup_location_id=79' 'pickup_location_id=8'\n",
      " 'pickup_location_id=80' 'pickup_location_id=81' 'pickup_location_id=82'\n",
      " 'pickup_location_id=83' 'pickup_location_id=84' 'pickup_location_id=85'\n",
      " 'pickup_location_id=86' 'pickup_location_id=87' 'pickup_location_id=88'\n",
      " 'pickup_location_id=89' 'pickup_location_id=9' 'pickup_location_id=90'\n",
      " 'pickup_location_id=91' 'pickup_location_id=92' 'pickup_location_id=93'\n",
      " 'pickup_location_id=94' 'pickup_location_id=95' 'pickup_location_id=96'\n",
      " 'pickup_location_id=97' 'pickup_location_id=98']\n"
     ]
    },
    {
     "ename": "NameError",
     "evalue": "name 'feature_matrix' is not defined",
     "output_type": "error",
     "traceback": [
      "\u001b[0;31m---------------------------------------------------------------------------\u001b[0m",
      "\u001b[0;31mNameError\u001b[0m                                 Traceback (most recent call last)",
      "Input \u001b[0;32mIn [55]\u001b[0m, in \u001b[0;36m<cell line: 4>\u001b[0;34m()\u001b[0m\n\u001b[1;32m      2\u001b[0m feature_names \u001b[38;5;241m=\u001b[39m vectorizer\u001b[38;5;241m.\u001b[39mget_feature_names_out()\n\u001b[1;32m      3\u001b[0m \u001b[38;5;28mprint\u001b[39m(\u001b[38;5;124m\"\u001b[39m\u001b[38;5;124mFeature Names:\u001b[39m\u001b[38;5;124m\"\u001b[39m, feature_names)\n\u001b[0;32m----> 4\u001b[0m \u001b[38;5;28mprint\u001b[39m(\u001b[38;5;124m\"\u001b[39m\u001b[38;5;124mFeature Matrix:\u001b[39m\u001b[38;5;130;01m\\n\u001b[39;00m\u001b[38;5;124m\"\u001b[39m, \u001b[43mfeature_matrix\u001b[49m)\n",
      "\u001b[0;31mNameError\u001b[0m: name 'feature_matrix' is not defined"
     ]
    }
   ],
   "source": [
    "# Display the feature names and the feature matrix\n",
    "feature_names = vectorizer.get_feature_names_out()\n",
    "print(\"Feature Names:\", feature_names)\n",
    "print(\"Feature Matrix:\\n\", feature_matrix)"
   ]
  },
  {
   "cell_type": "code",
   "execution_count": null,
   "id": "37671317",
   "metadata": {},
   "outputs": [],
   "source": []
  },
  {
   "cell_type": "code",
   "execution_count": null,
   "id": "a004dc04",
   "metadata": {},
   "outputs": [],
   "source": []
  },
  {
   "cell_type": "code",
   "execution_count": null,
   "id": "2d3b18be",
   "metadata": {},
   "outputs": [],
   "source": []
  },
  {
   "cell_type": "code",
   "execution_count": null,
   "id": "9e112d7f",
   "metadata": {},
   "outputs": [],
   "source": []
  },
  {
   "cell_type": "code",
   "execution_count": null,
   "id": "b6755470",
   "metadata": {},
   "outputs": [],
   "source": []
  },
  {
   "cell_type": "code",
   "execution_count": null,
   "id": "96c20d1f",
   "metadata": {},
   "outputs": [],
   "source": []
  }
 ],
 "metadata": {
  "kernelspec": {
   "display_name": "Python 3 (ipykernel)",
   "language": "python",
   "name": "python3"
  },
  "language_info": {
   "codemirror_mode": {
    "name": "ipython",
    "version": 3
   },
   "file_extension": ".py",
   "mimetype": "text/x-python",
   "name": "python",
   "nbconvert_exporter": "python",
   "pygments_lexer": "ipython3",
   "version": "3.9.12"
  }
 },
 "nbformat": 4,
 "nbformat_minor": 5
}
